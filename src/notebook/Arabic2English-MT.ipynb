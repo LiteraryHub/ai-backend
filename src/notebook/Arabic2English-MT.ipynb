{
 "cells": [
  {
   "cell_type": "code",
   "execution_count": 1,
   "id": "d493bf2b-e5dc-48c7-b2c9-ff97634ae512",
   "metadata": {},
   "outputs": [],
   "source": [
    "from transformers import AutoTokenizer, AutoModelForSeq2SeqLM\n",
    "import torch"
   ]
  },
  {
   "cell_type": "code",
   "execution_count": 2,
   "id": "5f96307a-4fbd-4557-ada8-a38c18116029",
   "metadata": {},
   "outputs": [
    {
     "name": "stderr",
     "output_type": "stream",
     "text": [
      "C:\\Users\\moeme\\anaconda3\\Lib\\site-packages\\transformers\\models\\marian\\tokenization_marian.py:194: UserWarning: Recommended: pip install sacremoses.\n",
      "  warnings.warn(\"Recommended: pip install sacremoses.\")\n"
     ]
    }
   ],
   "source": [
    "tokenizer = AutoTokenizer.from_pretrained(\"Helsinki-NLP/opus-mt-ar-en\")\n",
    "tokenizer.save_pretrained(\"./Arabic2English-Tokenizer\")\n",
    "model = AutoModelForSeq2SeqLM.from_pretrained(\"Helsinki-NLP/opus-mt-ar-en\")\n",
    "model.save_pretrained(\"./Arabic2English-Model\")"
   ]
  },
  {
   "cell_type": "code",
   "execution_count": 3,
   "id": "db24ebb1-5a77-4347-bd09-7033f68abc5d",
   "metadata": {},
   "outputs": [
    {
     "name": "stdout",
     "output_type": "stream",
     "text": [
      "Generated: ['A great lion jumps out of a big stone at night.', 'A mighty lion jumps out of a big stone at night.', 'A great lion jumps from a big stone at night.']\n"
     ]
    }
   ],
   "source": [
    "inp = \"أسد مهيب يقفز من حجر كبير في الليل\"\n",
    "input_ids = tokenizer(inp, return_tensors=\"pt\").input_ids\n",
    "outputs = model.generate(input_ids=input_ids, num_beams=5, num_return_sequences=3)\n",
    "print(\"Generated:\", tokenizer.batch_decode(outputs, skip_special_tokens=True))"
   ]
  },
  {
   "cell_type": "code",
   "execution_count": null,
   "id": "19419e93-eeb0-441f-8193-5d01d9faa42e",
   "metadata": {},
   "outputs": [],
   "source": [
    "def arabic2english(text):\n",
    "    input_ids = tokenizer(text, return_tensors=\"pt\").input_ids\n",
    "    outputs = model.generate(input_ids=input_ids, num_beams=5, num_return_sequences=3)\n",
    "    return tokenizer.batch_decode(outputs, skip_special_tokens=True)[0]"
   ]
  }
 ],
 "metadata": {
  "kernelspec": {
   "display_name": "Python 3 (ipykernel)",
   "language": "python",
   "name": "python3"
  },
  "language_info": {
   "codemirror_mode": {
    "name": "ipython",
    "version": 3
   },
   "file_extension": ".py",
   "mimetype": "text/x-python",
   "name": "python",
   "nbconvert_exporter": "python",
   "pygments_lexer": "ipython3",
   "version": "3.11.5"
  }
 },
 "nbformat": 4,
 "nbformat_minor": 5
}
